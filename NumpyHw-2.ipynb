{
  "nbformat": 4,
  "nbformat_minor": 0,
  "metadata": {
    "colab": {
      "provenance": []
    },
    "kernelspec": {
      "name": "python3",
      "display_name": "Python 3"
    },
    "language_info": {
      "name": "python"
    }
  },
  "cells": [
    {
      "cell_type": "code",
      "execution_count": null,
      "metadata": {
        "id": "Wu9SYS6SMhHw"
      },
      "outputs": [],
      "source": [
        "import numpy as np"
      ]
    },
    {
      "cell_type": "code",
      "source": [
        "a = np.random.randint(11, size=(3,3))\n",
        "b = np.random.randint(11, size=(3,3))\n",
        "print(a)\n",
        "print(b)"
      ],
      "metadata": {
        "colab": {
          "base_uri": "https://localhost:8080/"
        },
        "id": "QNtwoupHMoUV",
        "outputId": "cba86a7b-7bdb-466d-a4f1-3558e6e92ecd"
      },
      "execution_count": null,
      "outputs": [
        {
          "output_type": "stream",
          "name": "stdout",
          "text": [
            "[[ 3 10  8]\n",
            " [ 6  4  2]\n",
            " [ 2  5  5]]\n",
            "[[7 1 7]\n",
            " [4 9 5]\n",
            " [2 8 2]]\n"
          ]
        }
      ]
    },
    {
      "cell_type": "code",
      "source": [
        "mul = np.multiply(a, b)\n",
        "print(mul)"
      ],
      "metadata": {
        "colab": {
          "base_uri": "https://localhost:8080/"
        },
        "id": "58Wr0fBIPiDE",
        "outputId": "adc05b3f-d57f-4e0c-f949-d1123ab00dd8"
      },
      "execution_count": null,
      "outputs": [
        {
          "output_type": "stream",
          "name": "stdout",
          "text": [
            "[[21 10 56]\n",
            " [24 36 10]\n",
            " [ 4 40 10]]\n"
          ]
        }
      ]
    },
    {
      "cell_type": "code",
      "source": [
        "eyefour = np.eye(4)\n",
        "print(eyefour)"
      ],
      "metadata": {
        "colab": {
          "base_uri": "https://localhost:8080/"
        },
        "id": "anX2JzCnQhSK",
        "outputId": "2fa522dd-b21e-45e0-c359-aa133022541d"
      },
      "execution_count": null,
      "outputs": [
        {
          "output_type": "stream",
          "name": "stdout",
          "text": [
            "[[1. 0. 0. 0.]\n",
            " [0. 1. 0. 0.]\n",
            " [0. 0. 1. 0.]\n",
            " [0. 0. 0. 1.]]\n"
          ]
        }
      ]
    },
    {
      "cell_type": "code",
      "source": [
        "nordis = np.random.normal(10, 5, size=(3, 3))\n",
        "print(nordis)"
      ],
      "metadata": {
        "colab": {
          "base_uri": "https://localhost:8080/"
        },
        "id": "-9PCUgOBQ-9N",
        "outputId": "1a2b3bed-b95f-4b44-f1cd-6d62d5bacac6"
      },
      "execution_count": null,
      "outputs": [
        {
          "output_type": "stream",
          "name": "stdout",
          "text": [
            "[[15.43341658 20.0889215  11.48603937]\n",
            " [ 1.69822318  8.60953969  8.74736077]\n",
            " [10.11744979 14.62492877 14.45307264]]\n"
          ]
        }
      ]
    },
    {
      "cell_type": "code",
      "source": [
        "print(a)\n",
        "transposea = np.transpose(a)\n",
        "print(transposea)"
      ],
      "metadata": {
        "colab": {
          "base_uri": "https://localhost:8080/"
        },
        "id": "TG4PQvJAdcta",
        "outputId": "c3d34d8c-b97b-4ee2-ce40-ac7818f2e7b0"
      },
      "execution_count": null,
      "outputs": [
        {
          "output_type": "stream",
          "name": "stdout",
          "text": [
            "[[ 3 10  8]\n",
            " [ 6  4  2]\n",
            " [ 2  5  5]]\n",
            "[[ 3  6  2]\n",
            " [10  4  5]\n",
            " [ 8  2  5]]\n"
          ]
        }
      ]
    },
    {
      "cell_type": "markdown",
      "source": [
        "Numpy vectorizes some computations by having some precompiled c code that makes the runtime significantly less. \n"
      ],
      "metadata": {
        "id": "RJDekQnfgHss"
      }
    },
    {
      "cell_type": "code",
      "source": [
        "lambdafunction = np.fromfunction(lambda i, j: i*j, (3, 3))\n",
        "print(lambdafunction)"
      ],
      "metadata": {
        "colab": {
          "base_uri": "https://localhost:8080/"
        },
        "id": "SzsB0IsWgGkS",
        "outputId": "0998c5f5-06a9-4bc0-f02d-3eb71c125cea"
      },
      "execution_count": null,
      "outputs": [
        {
          "output_type": "stream",
          "name": "stdout",
          "text": [
            "[[0. 0. 0.]\n",
            " [0. 1. 2.]\n",
            " [0. 2. 4.]]\n"
          ]
        }
      ]
    },
    {
      "cell_type": "code",
      "source": [
        "print(a)\n",
        "print(np.sum(a))\n",
        "aprime = np.empty_like(a)\n",
        "\n",
        "co1 = 0\n",
        "for i in a:\n",
        "  co2 = 0\n",
        "  for j in i:\n",
        "    aprime[co1, co2] = j*2\n",
        "    co2 += 1\n",
        "  co1 += 1\n",
        "print(aprime)\n",
        "print(\"doubled each element in array by 2\")"
      ],
      "metadata": {
        "id": "33aYwGuRfeWe",
        "colab": {
          "base_uri": "https://localhost:8080/"
        },
        "outputId": "74a45261-3fbe-4e26-9a60-7f9336de8121"
      },
      "execution_count": null,
      "outputs": [
        {
          "output_type": "stream",
          "name": "stdout",
          "text": [
            "[[ 3 10  8]\n",
            " [ 6  4  2]\n",
            " [ 2  5  5]]\n",
            "45\n",
            "[[ 6 20 16]\n",
            " [12  8  4]\n",
            " [ 4 10 10]]\n"
          ]
        }
      ]
    },
    {
      "cell_type": "markdown",
      "source": [
        "Numpy vectorization is a pathway to parallelization becasue the code is already compiled and is done before you even get to use it. This parallelizes it becasue it divides the tasks by compiling the function you would use, for later use. Since its compiled code, its faster. "
      ],
      "metadata": {
        "id": "MB08912wDanz"
      }
    },
    {
      "cell_type": "code",
      "source": [],
      "metadata": {
        "id": "nhdr98Gf9fUJ"
      },
      "execution_count": null,
      "outputs": []
    }
  ]
}